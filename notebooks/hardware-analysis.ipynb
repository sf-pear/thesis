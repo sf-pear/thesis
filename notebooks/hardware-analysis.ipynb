{
 "cells": [
  {
   "cell_type": "code",
   "execution_count": null,
   "metadata": {},
   "outputs": [],
   "source": [
    "import os\n",
    "import pandas as pd\n",
    "\n",
    "paths = {\n",
    "    'pt': '/mnt/c/Users/sabri/Documents/github/thesis/artifacts/results/hardware_stats_pt.csv',\n",
    "    'onnx': '/mnt/c/Users/sabri/Documents/github/thesis/artifacts/results/hardware_stats_onnx.csv',\n",
    "    'tflite16': '/mnt/c/Users/sabri/Documents/github/thesis/artifacts/results/hardware_stats_tflite16.csv',\n",
    "}"
   ]
  },
  {
   "cell_type": "code",
   "execution_count": null,
   "metadata": {},
   "outputs": [],
   "source": [
    "# values = pd.read_csv(paths['pt'])\n",
    "# values['model'] = 'pt'"
   ]
  },
  {
   "cell_type": "code",
   "execution_count": null,
   "metadata": {},
   "outputs": [],
   "source": [
    "hardware_util_list =[]\n",
    "\n",
    "for key, value in paths.items():\n",
    "    temp = pd.read_csv(value)\n",
    "    temp['model'] = key\n",
    "    temp['seconds'] = temp.index\n",
    "    hardware_util_list.append(temp)\n",
    "\n",
    "hardware_util = pd.concat(hardware_util_list)\n"
   ]
  },
  {
   "cell_type": "code",
   "execution_count": null,
   "metadata": {},
   "outputs": [],
   "source": [
    "hardware_util.to_csv('hardware_stats_all.csv', index=False)"
   ]
  },
  {
   "cell_type": "code",
   "execution_count": null,
   "metadata": {},
   "outputs": [],
   "source": [
    "hardware_util_filtered = hardware_util[hardware_util.seconds.between(10, 400)]"
   ]
  },
  {
   "cell_type": "code",
   "execution_count": null,
   "metadata": {},
   "outputs": [],
   "source": [
    "# Create the facet grid plot\n",
    "import seaborn as sns\n",
    "import matplotlib.pyplot as plt\n",
    "\n",
    "# Define the order of the models you want to plot\n",
    "model_order = ['pt', 'onnx', 'tflite16']\n",
    "\n",
    "# Define the order of the variables you want to plot\n",
    "var_order = ['CPU', 'Memory', 'GPU_Util', 'GPU_Mem', 'GPU_Mem_Free', 'Power']\n",
    "\n",
    "g = sns.FacetGrid(hardware_util_filtered, col='model', col_order=model_order)\n",
    "g.map(plt.plot, 'seconds', 'GPU_Mem')\n",
    "plt.show()"
   ]
  },
  {
   "cell_type": "code",
   "execution_count": null,
   "metadata": {},
   "outputs": [],
   "source": [
    "sns.lineplot(data=hardware_util_filtered, x=\"seconds\", y=\"Memory\", hue=\"model\", palette=\"mako\")"
   ]
  },
  {
   "cell_type": "code",
   "execution_count": null,
   "metadata": {},
   "outputs": [],
   "source": [
    "import pandas as pd\n",
    "import seaborn as sns\n",
    "import matplotlib.pyplot as plt\n",
    "from matplotlib.lines import Line2D\n",
    "\n",
    "# Assuming your data is already in a dataframe called 'df'\n",
    "\n",
    "# Reset the index to avoid duplicate labels\n",
    "df = hardware_util_filtered.reset_index(drop=True)\n",
    "\n",
    "metrics = ['CPU', 'Memory', 'GPU_Util', 'GPU_Mem', 'GPU_Mem_Free', 'Power']\n",
    "metrics_units = ['%', '%', '%', '(MiB)', '(MiB)', '(W)']\n",
    "\n",
    "# Create a 3x2 grid of subplots\n",
    "fig, axes = plt.subplots(3, 2, figsize=(10, 6), sharex=True);\n",
    "axes = axes.flatten()\n",
    "\n",
    "# Create a line plot for each metric using seaborn and set their titles\n",
    "for idx, metric in enumerate(metrics):\n",
    "    g = sns.lineplot(data=df, x='seconds', y=metric, hue='model', ax=axes[idx], palette=\"mako\", legend=False, alpha=0.8)\n",
    "    axes[idx].set_xlabel('Seconds')\n",
    "    axes[idx].set_ylabel(f\"{metric} {metrics_units[idx]}\")\n",
    "\n",
    "# handles, labels = g.get_legend_handles_labels()\n",
    "# fig.legend(handles, labels, loc='upper right', bbox_to_anchor=(1.11, 0.93))\n",
    "\n",
    "# Create a custom legend with labels and colors\n",
    "legend_labels = list(df.model.unique())\n",
    "legend_colors = sns.color_palette('mako', n_colors=3)\n",
    "legend_elements = [Line2D([0], [0], color=color, lw=2) for color in legend_colors]\n",
    "fig.legend(handles=legend_elements, labels=legend_labels, loc='upper right', bbox_to_anchor=(1.11, 0.93))\n",
    "\n",
    "# Set a tight layout and show the figure\n",
    "fig.suptitle(\"Hardware Utilization\", fontsize=16)\n",
    "plt.tight_layout()\n",
    "plt.show()\n"
   ]
  },
  {
   "cell_type": "code",
   "execution_count": null,
   "metadata": {},
   "outputs": [],
   "source": [
    "df[df.CPU > 100]"
   ]
  },
  {
   "cell_type": "code",
   "execution_count": null,
   "metadata": {},
   "outputs": [],
   "source": [
    "import edgeimpulse as ei\n",
    "\n",
    "# Change to an API key from your Edge Impulse project\n",
    "ei.API_KEY = \"\"\n",
    "\n",
    "ei.model.list_profile_devices()"
   ]
  },
  {
   "cell_type": "code",
   "execution_count": null,
   "metadata": {},
   "outputs": [],
   "source": [
    "results = ei.model.profile(model='/mnt/c/Users/sabri/Documents/github/thesis/models/auv/exports/auv450.onnx')\n",
    "results.summary()"
   ]
  },
  {
   "cell_type": "code",
   "execution_count": null,
   "metadata": {},
   "outputs": [],
   "source": [
    "print(f\"Estimated RAM usage: {results.model.profile_info.float32.memory.tflite.ram}\")\n",
    "print(f\"Estimated ROM usage: {results.model.profile_info.float32.memory.tflite.rom}\")\n",
    "print(f\"Estimated inference time (ms): {results.model.profile_info.float32.time_per_inference_ms}\")"
   ]
  },
  {
   "cell_type": "code",
   "execution_count": null,
   "metadata": {},
   "outputs": [],
   "source": [
    "results2 = ei.model.profile(model='/mnt/c/Users/sabri/Documents/github/thesis/models/auv/exports/auv450_saved_model/auv450_float16.tflite', \n",
    "                             device='jetson-nano')\n",
    "results2.summary()"
   ]
  },
  {
   "cell_type": "code",
   "execution_count": null,
   "metadata": {},
   "outputs": [],
   "source": [
    "results2.model.profile_info"
   ]
  },
  {
   "cell_type": "code",
   "execution_count": null,
   "metadata": {},
   "outputs": [],
   "source": [
    "print(f\"Estimated RAM usage: {results2.model.profile_info.float32.memory.tflite.ram}\")\n",
    "print(f\"Estimated ROM usage: {results2.model.profile_info.float32.memory.tflite.rom}\")\n",
    "print(f\"Estimated inference time (ms): {results2.model.profile_info.float32.time_per_inference_ms}\")"
   ]
  },
  {
   "cell_type": "code",
   "execution_count": null,
   "metadata": {},
   "outputs": [],
   "source": []
  }
 ],
 "metadata": {
  "kernelspec": {
   "display_name": "ocean",
   "language": "python",
   "name": "python3"
  },
  "language_info": {
   "codemirror_mode": {
    "name": "ipython",
    "version": 3
   },
   "file_extension": ".py",
   "mimetype": "text/x-python",
   "name": "python",
   "nbconvert_exporter": "python",
   "pygments_lexer": "ipython3",
   "version": "3.8.16"
  },
  "orig_nbformat": 4
 },
 "nbformat": 4,
 "nbformat_minor": 2
}
