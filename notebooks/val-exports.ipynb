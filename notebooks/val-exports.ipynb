{
 "cells": [
  {
   "cell_type": "code",
   "execution_count": null,
   "metadata": {},
   "outputs": [],
   "source": [
    "models = {\n",
    "    'auv450' : '/mnt/c/Users/sabri/Documents/github/thesis-edge/models/auv450.pt',\n",
    "    'onnx' : '/mnt/c/Users/sabri/Documents/github/thesis/models/auv/exports/auv450.onnx',\n",
    "    'tf_32' : '/mnt/c/Users/sabri/Documents/github/thesis/models/auv/exports/auv450_saved_model/auv450_float32.tflite',\n",
    "    'tf_16' : '/mnt/c/Users/sabri/Documents/github/thesis/models/auv/exports/auv450_saved_model/auv450_float16.tflite',\n",
    "}"
   ]
  },
  {
   "cell_type": "code",
   "execution_count": null,
   "metadata": {},
   "outputs": [],
   "source": [
    "from ultralytics import YOLO\n",
    "import pandas as pd"
   ]
  },
  {
   "cell_type": "code",
   "execution_count": null,
   "metadata": {},
   "outputs": [],
   "source": [
    "# comment out - takes long to run and it's already done\n",
    "# auv_val = pd.DataFrame()\n",
    "\n",
    "# for key, value in models.items():\n",
    "#     model = YOLO(value, task='detect')  \n",
    "#     metrics = model.val(data='/mnt/c/Users/sabri/Documents/github/thesis/datasets/processed/auv/dataset.yaml', imgsz=1280, batch=1) \n",
    "\n",
    "#     info = metrics.results_dict\n",
    "#     info.update(metrics.speed)\n",
    "#     info_df = pd.DataFrame(info, index=[key])\n",
    "\n",
    "#     auv_val = pd.concat([auv_val, info_df])\n",
    "\n",
    "# auv_val.to_csv(\"/mnt/c/Users/sabri/Documents/github/thesis/artifacts/results/auv_edge_val.csv\")\n"
   ]
  },
  {
   "cell_type": "code",
   "execution_count": null,
   "metadata": {},
   "outputs": [],
   "source": [
    "import edgeimpulse as ei\n",
    "\n",
    "# Change to an API key from your Edge Impulse project\n",
    "ei.API_KEY = \"ei_2ee4112aa409b6bfa65c06d877bccd629408584d190ded67\"\n",
    "\n",
    "ei.model.list_profile_devices()"
   ]
  },
  {
   "cell_type": "code",
   "execution_count": null,
   "metadata": {},
   "outputs": [],
   "source": [
    "# Print inference estimates\n",
    "result = ei.model.profile(model=models['onnx'])\n",
    "result.summary()"
   ]
  },
  {
   "cell_type": "code",
   "execution_count": null,
   "metadata": {},
   "outputs": [],
   "source": [
    "profile = ei.model.profile(model=models['tf_16'], device='jetson-nano')\n",
    "print(profile.summary())"
   ]
  }
 ],
 "metadata": {
  "kernelspec": {
   "display_name": "ocean",
   "language": "python",
   "name": "python3"
  },
  "language_info": {
   "codemirror_mode": {
    "name": "ipython",
    "version": 3
   },
   "file_extension": ".py",
   "mimetype": "text/x-python",
   "name": "python",
   "nbconvert_exporter": "python",
   "pygments_lexer": "ipython3",
   "version": "3.8.16"
  },
  "orig_nbformat": 4
 },
 "nbformat": 4,
 "nbformat_minor": 2
}
