{
 "cells": [
  {
   "attachments": {},
   "cell_type": "markdown",
   "metadata": {},
   "source": [
    "## Check YOLOv8 is working"
   ]
  },
  {
   "cell_type": "code",
   "execution_count": null,
   "metadata": {},
   "outputs": [],
   "source": [
    "from IPython import display\n",
    "display.clear_output()\n",
    "\n",
    "import ultralytics\n",
    "ultralytics.checks()"
   ]
  },
  {
   "cell_type": "code",
   "execution_count": null,
   "metadata": {},
   "outputs": [],
   "source": [
    "import torch\n",
    "torch.cuda.is_available()"
   ]
  },
  {
   "cell_type": "code",
   "execution_count": null,
   "metadata": {},
   "outputs": [],
   "source": [
    "# from ultralytics import YOLO\n",
    "# import pandas as pd\n",
    "# import os\n",
    "\n",
    "# PATH=\"/mnt/c/Users/sabri/Documents/github/thesis/models/auv/\"\n",
    "# yaml_file = \"/mnt/c/Users/sabri/Documents/github/thesis/datasets/processed/auv/dataset.yaml\"\n",
    "\n",
    "# models = os.listdir(PATH)\n",
    "\n",
    "# auv_val = pd.DataFrame()\n",
    "\n",
    "# for m in models:\n",
    "#     path_to_model = PATH + m\n",
    "#     model = YOLO(path_to_model)\n",
    "#     metrics = model.val(data=yaml_file)\n",
    "    \n",
    "#     info = {\"model_info\": model.info(verbose=True)}\n",
    "\n",
    "#     info.update(metrics.results_dict)\n",
    "#     info.update(metrics.speed)\n",
    "\n",
    "#     info_df = pd.DataFrame(info, index=[m])\n",
    "#     auv_val = pd.concat([auv_val, info_df])\n",
    "\n",
    "# auv_val.to_csv(\"auv_val2.csv\")"
   ]
  },
  {
   "attachments": {},
   "cell_type": "markdown",
   "metadata": {},
   "source": [
    "## Train"
   ]
  },
  {
   "cell_type": "code",
   "execution_count": null,
   "metadata": {},
   "outputs": [],
   "source": [
    "# results = model.train(data=yaml_file, task=\"detect\", epochs=1, imgsz=640)"
   ]
  },
  {
   "attachments": {},
   "cell_type": "markdown",
   "metadata": {},
   "source": [
    "## Evaluate"
   ]
  },
  {
   "cell_type": "code",
   "execution_count": null,
   "metadata": {},
   "outputs": [],
   "source": [
    "model_path = '/mnt/c/Users/sabri/Documents/github/thesis/models/rov/rov_yolo8l_8_1280.pt'\n",
    "model = YOLO(model_path)\n",
    "metrics = model.val(data='/mnt/c/Users/sabri/Documents/github/thesis/datasets/processed/auv/dataset.yaml')"
   ]
  },
  {
   "attachments": {},
   "cell_type": "markdown",
   "metadata": {},
   "source": [
    "### ROV"
   ]
  },
  {
   "cell_type": "code",
   "execution_count": null,
   "metadata": {},
   "outputs": [],
   "source": [
    "rov_best_640 = \"/mnt/c/Users/sabri/Documents/github/thesis/runs/detect/train3/weights/best.pt\"\n",
    "rov_model_640 = YOLO(rov_best_640)  # load a custom model\n",
    "rov_metrics_640 = rov_model_640.val(data='/mnt/c/Users/sabri/Documents/github/thesis/datasets/rov/dataset.yaml')  # no arguments needed, dataset and settings remembered"
   ]
  },
  {
   "cell_type": "code",
   "execution_count": null,
   "metadata": {},
   "outputs": [],
   "source": [
    "rov_best_1280 = \"/mnt/c/Users/sabri/Documents/github/thesis/runs/detect/train7/weights/best.pt\"\n",
    "rov_model_1280 = YOLO(rov_best_1280)  # load a custom model\n",
    "rov_metrics_1280 = rov_model_1280.val(data='/mnt/c/Users/sabri/Documents/github/thesis/datasets/rov/dataset.yaml')  # no arguments needed, dataset and settings remembered"
   ]
  },
  {
   "attachments": {},
   "cell_type": "markdown",
   "metadata": {},
   "source": [
    "### AUV"
   ]
  },
  {
   "cell_type": "code",
   "execution_count": null,
   "metadata": {},
   "outputs": [],
   "source": [
    "auv_best_640 = \"/mnt/c/Users/sabri/Documents/github/thesis/runs/detect/train3/weights/best.pt\"\n",
    "auv_model_640 = YOLO(auv_best_640)  # load a custom model\n",
    "auv_metrics_640 = auv_model_640.val(data='/mnt/c/Users/sabri/Documents/github/thesis/datasets/auv/dataset.yaml')  # no arguments needed, dataset and settings remembered"
   ]
  },
  {
   "cell_type": "code",
   "execution_count": null,
   "metadata": {},
   "outputs": [],
   "source": [
    "auv_best_1280 = \"/mnt/c/Users/sabri/Documents/github/thesis/runs/detect/train7/weights/best.pt\"\n",
    "auv_model_1280 = YOLO(auv_best_1280)  # load a custom model\n",
    "auv_metrics_1280 = auv_model_1280.val(data='/mnt/c/Users/sabri/Documents/github/thesis/datasets/auv/dataset.yaml')  # no arguments needed, dataset and settings remembered"
   ]
  },
  {
   "cell_type": "code",
   "execution_count": null,
   "metadata": {},
   "outputs": [],
   "source": [
    "metrics_1280.box.map    # map50-95"
   ]
  },
  {
   "cell_type": "code",
   "execution_count": null,
   "metadata": {},
   "outputs": [],
   "source": [
    "metrics_1280.box.map50  # map50"
   ]
  },
  {
   "cell_type": "code",
   "execution_count": null,
   "metadata": {},
   "outputs": [],
   "source": [
    "metrics_1280.box.map75  # map75"
   ]
  },
  {
   "cell_type": "code",
   "execution_count": null,
   "metadata": {},
   "outputs": [],
   "source": [
    "metrics_1280.box.maps   # a list contains map50-95 of each category"
   ]
  },
  {
   "attachments": {},
   "cell_type": "markdown",
   "metadata": {},
   "source": [
    "## Export AUV model"
   ]
  },
  {
   "cell_type": "code",
   "execution_count": null,
   "metadata": {},
   "outputs": [],
   "source": [
    "from ultralytics import YOLO\n",
    "\n",
    "# Load a model\n",
    "model = YOLO(\"/mnt/c/Users/sabri/Documents/github/thesis/models/auv/auv450.pt\")  # load a custom trained"
   ]
  },
  {
   "cell_type": "code",
   "execution_count": null,
   "metadata": {},
   "outputs": [],
   "source": [
    "# model.export(format='onnx')"
   ]
  },
  {
   "cell_type": "code",
   "execution_count": null,
   "metadata": {},
   "outputs": [],
   "source": [
    "# model.export(format='tflite')"
   ]
  },
  {
   "cell_type": "code",
   "execution_count": null,
   "metadata": {},
   "outputs": [],
   "source": [
    "# model.export(format='engine', device=0)"
   ]
  },
  {
   "attachments": {},
   "cell_type": "markdown",
   "metadata": {},
   "source": [
    "## Tracking"
   ]
  },
  {
   "cell_type": "code",
   "execution_count": null,
   "metadata": {},
   "outputs": [],
   "source": [
    "# Track with the model\n",
    "results = model.track(source=\"https://youtu.be/Zgi9g1ksQHc\", conf=0.3, iou=0.5, save=True, save_txt=True, save_conf=True, save_crop=True) \n"
   ]
  }
 ],
 "metadata": {
  "kernelspec": {
   "display_name": ".py38",
   "language": "python",
   "name": "python3"
  },
  "language_info": {
   "codemirror_mode": {
    "name": "ipython",
    "version": 3
   },
   "file_extension": ".py",
   "mimetype": "text/x-python",
   "name": "python",
   "nbconvert_exporter": "python",
   "pygments_lexer": "ipython3",
   "version": "3.8.16"
  },
  "orig_nbformat": 4
 },
 "nbformat": 4,
 "nbformat_minor": 2
}
