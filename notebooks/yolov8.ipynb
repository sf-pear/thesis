{
 "cells": [
  {
   "attachments": {},
   "cell_type": "markdown",
   "metadata": {},
   "source": [
    "## Check YOLOv8 is working"
   ]
  },
  {
   "cell_type": "code",
   "execution_count": null,
   "metadata": {},
   "outputs": [],
   "source": [
    "from IPython import display\n",
    "display.clear_output()\n",
    "\n",
    "import ultralytics\n",
    "ultralytics.checks()"
   ]
  },
  {
   "cell_type": "code",
   "execution_count": null,
   "metadata": {},
   "outputs": [],
   "source": [
    "import torch\n",
    "torch.cuda.is_available()"
   ]
  },
  {
   "cell_type": "code",
   "execution_count": null,
   "metadata": {},
   "outputs": [],
   "source": [
    "from ultralytics import YOLO\n",
    "import pandas as pd\n",
    "import os\n",
    "\n",
    "PATH=\"/mnt/c/Users/sabri/Documents/github/thesis/models/auv/\"\n",
    "yaml_file = \"/mnt/c/Users/sabri/Documents/github/thesis/datasets/auv/dataset.yaml\"\n",
    "\n",
    "models = os.listdir(PATH)\n",
    "\n",
    "auv_val = pd.DataFrame()\n",
    "\n",
    "for m in models:\n",
    "    path_to_model = PATH + m\n",
    "    model = YOLO(path_to_model)\n",
    "    metrics = model.val(data=yaml_file)\n",
    "    \n",
    "    info = {\"model_info\": model.info(verbose=True)}\n",
    "\n",
    "    info.update(metrics.results_dict)\n",
    "    info.update(metrics.speed)\n",
    "\n",
    "    info_df = pd.DataFrame(info, index=[m])\n",
    "    auv_val = pd.concat([auv_val, info_df])\n",
    "\n",
    "auv_val.to_csv(\"auv_val.csv\")"
   ]
  },
  {
   "attachments": {},
   "cell_type": "markdown",
   "metadata": {},
   "source": [
    "## Train"
   ]
  },
  {
   "cell_type": "code",
   "execution_count": null,
   "metadata": {},
   "outputs": [],
   "source": [
    "# results = model.train(data=yaml_file, task=\"detect\", epochs=1, imgsz=640)"
   ]
  },
  {
   "attachments": {},
   "cell_type": "markdown",
   "metadata": {},
   "source": [
    "## Evaluate"
   ]
  },
  {
   "attachments": {},
   "cell_type": "markdown",
   "metadata": {},
   "source": [
    "### ROV"
   ]
  },
  {
   "cell_type": "code",
   "execution_count": null,
   "metadata": {},
   "outputs": [],
   "source": [
    "rov_best_640 = \"/mnt/c/Users/sabri/Documents/github/thesis/runs/detect/train3/weights/best.pt\"\n",
    "rov_model_640 = YOLO(rov_best_640)  # load a custom model\n",
    "rov_metrics_640 = rov_model_640.val(data='/mnt/c/Users/sabri/Documents/github/thesis/datasets/rov/dataset.yaml')  # no arguments needed, dataset and settings remembered"
   ]
  },
  {
   "cell_type": "code",
   "execution_count": null,
   "metadata": {},
   "outputs": [],
   "source": [
    "rov_best_1280 = \"/mnt/c/Users/sabri/Documents/github/thesis/runs/detect/train7/weights/best.pt\"\n",
    "rov_model_1280 = YOLO(rov_best_1280)  # load a custom model\n",
    "rov_metrics_1280 = rov_model_1280.val(data='/mnt/c/Users/sabri/Documents/github/thesis/datasets/rov/dataset.yaml')  # no arguments needed, dataset and settings remembered"
   ]
  },
  {
   "attachments": {},
   "cell_type": "markdown",
   "metadata": {},
   "source": [
    "### AUV"
   ]
  },
  {
   "cell_type": "code",
   "execution_count": null,
   "metadata": {},
   "outputs": [],
   "source": [
    "auv_best_640 = \"/mnt/c/Users/sabri/Documents/github/thesis/runs/detect/train3/weights/best.pt\"\n",
    "auv_model_640 = YOLO(auv_best_640)  # load a custom model\n",
    "auv_metrics_640 = auv_model_640.val(data='/mnt/c/Users/sabri/Documents/github/thesis/datasets/auv/dataset.yaml')  # no arguments needed, dataset and settings remembered"
   ]
  },
  {
   "cell_type": "code",
   "execution_count": null,
   "metadata": {},
   "outputs": [],
   "source": [
    "auv_best_1280 = \"/mnt/c/Users/sabri/Documents/github/thesis/runs/detect/train7/weights/best.pt\"\n",
    "auv_model_1280 = YOLO(auv_best_1280)  # load a custom model\n",
    "auv_metrics_1280 = auv_model_1280.val(data='/mnt/c/Users/sabri/Documents/github/thesis/datasets/auv/dataset.yaml')  # no arguments needed, dataset and settings remembered"
   ]
  },
  {
   "cell_type": "code",
   "execution_count": null,
   "metadata": {},
   "outputs": [],
   "source": [
    "metrics_1280.box.map    # map50-95"
   ]
  },
  {
   "cell_type": "code",
   "execution_count": null,
   "metadata": {},
   "outputs": [],
   "source": [
    "metrics_1280.box.map50  # map50"
   ]
  },
  {
   "cell_type": "code",
   "execution_count": null,
   "metadata": {},
   "outputs": [],
   "source": [
    "metrics_1280.box.map75  # map75"
   ]
  },
  {
   "cell_type": "code",
   "execution_count": null,
   "metadata": {},
   "outputs": [],
   "source": [
    "metrics_1280.box.maps   # a list contains map50-95 of each category"
   ]
  },
  {
   "attachments": {},
   "cell_type": "markdown",
   "metadata": {},
   "source": [
    "## Export AUV model"
   ]
  },
  {
   "cell_type": "code",
   "execution_count": 1,
   "metadata": {},
   "outputs": [
    {
     "name": "stderr",
     "output_type": "stream",
     "text": [
      "/home/sabrina/mambaforge/envs/thesis/lib/python3.8/site-packages/tqdm/auto.py:21: TqdmWarning: IProgress not found. Please update jupyter and ipywidgets. See https://ipywidgets.readthedocs.io/en/stable/user_install.html\n",
      "  from .autonotebook import tqdm as notebook_tqdm\n"
     ]
    }
   ],
   "source": [
    "from ultralytics import YOLO\n",
    "\n",
    "# Load a model\n",
    "model = YOLO(\"/mnt/c/Users/sabri/Documents/github/thesis/models/auv/auv450.pt\")  # load a custom trained"
   ]
  },
  {
   "cell_type": "code",
   "execution_count": 2,
   "metadata": {},
   "outputs": [],
   "source": [
    "# model.export(format='onnx')"
   ]
  },
  {
   "cell_type": "code",
   "execution_count": 5,
   "metadata": {},
   "outputs": [],
   "source": [
    "# model.export(format='tflite')"
   ]
  },
  {
   "cell_type": "code",
   "execution_count": 3,
   "metadata": {},
   "outputs": [],
   "source": [
    "# model.export(format='engine', device=0)"
   ]
  },
  {
   "cell_type": "code",
   "execution_count": 6,
   "metadata": {},
   "outputs": [
    {
     "name": "stdout",
     "output_type": "stream",
     "text": [
      "# packages in environment at /home/sabrina/mambaforge/envs/thesis:\n",
      "#\n",
      "# Name                    Version                   Build  Channel\n",
      "_libgcc_mutex             0.1                 conda_forge    conda-forge\n",
      "_openmp_mutex             4.5                       2_gnu    conda-forge\n",
      "absl-py                   1.4.0                    pypi_0    pypi\n",
      "aiofiles                  23.1.0                   pypi_0    pypi\n",
      "aiohttp                   3.8.4                    pypi_0    pypi\n",
      "aiohttp-retry             2.8.3                    pypi_0    pypi\n",
      "aiosignal                 1.3.1                    pypi_0    pypi\n",
      "amqp                      5.1.1                    pypi_0    pypi\n",
      "antlr4-python3-runtime    4.9.3                    pypi_0    pypi\n",
      "anyio                     3.6.2                    pypi_0    pypi\n",
      "appdirs                   1.4.4                    pypi_0    pypi\n",
      "argcomplete               2.1.1                    pypi_0    pypi\n",
      "asttokens                 2.2.1              pyhd8ed1ab_0    conda-forge\n",
      "astunparse                1.6.3                    pypi_0    pypi\n",
      "async-timeout             4.0.2                    pypi_0    pypi\n",
      "asyncssh                  2.13.1                   pypi_0    pypi\n",
      "atpublic                  3.1.1                    pypi_0    pypi\n",
      "attrs                     22.2.0                   pypi_0    pypi\n",
      "backcall                  0.2.0              pyh9f0ad1d_0    conda-forge\n",
      "backports                 1.0                pyhd8ed1ab_3    conda-forge\n",
      "backports-zoneinfo        0.2.1                    pypi_0    pypi\n",
      "backports.functools_lru_cache 1.6.4              pyhd8ed1ab_0    conda-forge\n",
      "billiard                  3.6.4.0                  pypi_0    pypi\n",
      "boto3                     1.26.87                  pypi_0    pypi\n",
      "botocore                  1.29.87                  pypi_0    pypi\n",
      "bzip2                     1.0.8                h7f98852_4    conda-forge\n",
      "ca-certificates           2022.12.7            ha878542_0    conda-forge\n",
      "cachetools                5.3.0                    pypi_0    pypi\n",
      "celery                    5.2.7                    pypi_0    pypi\n",
      "certifi                   2022.12.7                pypi_0    pypi\n",
      "cffi                      1.15.1                   pypi_0    pypi\n",
      "charset-normalizer        3.1.0                    pypi_0    pypi\n",
      "click                     8.1.3                    pypi_0    pypi\n",
      "click-didyoumean          0.3.0                    pypi_0    pypi\n",
      "click-plugins             1.1.1                    pypi_0    pypi\n",
      "click-repl                0.2.0                    pypi_0    pypi\n",
      "colorama                  0.4.6                    pypi_0    pypi\n",
      "coloredlogs               15.0.1                   pypi_0    pypi\n",
      "comm                      0.1.2              pyhd8ed1ab_0    conda-forge\n",
      "configobj                 5.0.8                    pypi_0    pypi\n",
      "contourpy                 1.0.7                    pypi_0    pypi\n",
      "cryptography              39.0.2                   pypi_0    pypi\n",
      "cycler                    0.11.0                   pypi_0    pypi\n",
      "dacite                    1.7.0                    pypi_0    pypi\n",
      "debugpy                   1.6.6            py38h8dc9893_0    conda-forge\n",
      "decorator                 5.1.1              pyhd8ed1ab_0    conda-forge\n",
      "deprecated                1.2.13                   pypi_0    pypi\n",
      "dictdiffer                0.9.0                    pypi_0    pypi\n",
      "dill                      0.3.6                    pypi_0    pypi\n",
      "diskcache                 5.4.0                    pypi_0    pypi\n",
      "distro                    1.8.0                    pypi_0    pypi\n",
      "dnspython                 2.3.0                    pypi_0    pypi\n",
      "dpath                     2.1.4                    pypi_0    pypi\n",
      "dulwich                   0.21.3                   pypi_0    pypi\n",
      "dvc                       2.47.2                   pypi_0    pypi\n",
      "dvc-data                  0.42.3                   pypi_0    pypi\n",
      "dvc-http                  2.30.2                   pypi_0    pypi\n",
      "dvc-objects               0.21.1                   pypi_0    pypi\n",
      "dvc-render                0.2.0                    pypi_0    pypi\n",
      "dvc-studio-client         0.6.0                    pypi_0    pypi\n",
      "dvc-task                  0.2.0                    pypi_0    pypi\n",
      "eventlet                  0.33.3                   pypi_0    pypi\n",
      "executing                 1.2.0              pyhd8ed1ab_0    conda-forge\n",
      "fiftyone                  0.19.1                   pypi_0    pypi\n",
      "fiftyone-brain            0.10.0                   pypi_0    pypi\n",
      "fiftyone-db               0.4.0                    pypi_0    pypi\n",
      "filelock                  3.9.0                    pypi_0    pypi\n",
      "flatbuffers               23.3.3                   pypi_0    pypi\n",
      "flatten-dict              0.4.2                    pypi_0    pypi\n",
      "flufl-lock                7.1.1                    pypi_0    pypi\n",
      "fonttools                 4.39.0                   pypi_0    pypi\n",
      "frozenlist                1.3.3                    pypi_0    pypi\n",
      "fsspec                    2023.3.0                 pypi_0    pypi\n",
      "funcy                     1.18                     pypi_0    pypi\n",
      "future                    0.18.3                   pypi_0    pypi\n",
      "gast                      0.4.0                    pypi_0    pypi\n",
      "gitdb                     4.0.10                   pypi_0    pypi\n",
      "gitpython                 3.1.31                   pypi_0    pypi\n",
      "glob2                     0.7                      pypi_0    pypi\n",
      "google-auth               2.16.3                   pypi_0    pypi\n",
      "google-auth-oauthlib      0.4.6                    pypi_0    pypi\n",
      "google-pasta              0.2.0                    pypi_0    pypi\n",
      "grandalf                  0.8                      pypi_0    pypi\n",
      "graphql-core              3.2.3                    pypi_0    pypi\n",
      "greenlet                  2.0.2                    pypi_0    pypi\n",
      "grpcio                    1.53.0                   pypi_0    pypi\n",
      "h11                       0.14.0                   pypi_0    pypi\n",
      "h2                        4.1.0                    pypi_0    pypi\n",
      "h5py                      3.8.0                    pypi_0    pypi\n",
      "hpack                     4.0.0                    pypi_0    pypi\n",
      "httpcore                  0.16.3                   pypi_0    pypi\n",
      "httpx                     0.23.3                   pypi_0    pypi\n",
      "humanfriendly             10.0                     pypi_0    pypi\n",
      "hydra-core                1.3.2                    pypi_0    pypi\n",
      "hypercorn                 0.14.3                   pypi_0    pypi\n",
      "hyperframe                6.0.1                    pypi_0    pypi\n",
      "idna                      3.4                      pypi_0    pypi\n",
      "imageio                   2.26.0                   pypi_0    pypi\n",
      "importlib-metadata        6.0.0              pyha770c72_0    conda-forge\n",
      "importlib-resources       5.12.0                   pypi_0    pypi\n",
      "importlib_metadata        6.0.0                hd8ed1ab_0    conda-forge\n",
      "ipykernel                 6.21.3             pyh210e3f2_0    conda-forge\n",
      "ipython                   8.11.0             pyh41d4057_0    conda-forge\n",
      "iterative-telemetry       0.0.7                    pypi_0    pypi\n",
      "jax                       0.4.7                    pypi_0    pypi\n",
      "jedi                      0.18.2             pyhd8ed1ab_0    conda-forge\n",
      "jinja2                    3.1.2                    pypi_0    pypi\n",
      "jmespath                  1.0.1                    pypi_0    pypi\n",
      "joblib                    1.2.0                    pypi_0    pypi\n",
      "jupyter_client            8.0.3              pyhd8ed1ab_0    conda-forge\n",
      "jupyter_core              5.2.0            py38h578d9bd_0    conda-forge\n",
      "kaleido                   0.2.1                    pypi_0    pypi\n",
      "keras                     2.12.0                   pypi_0    pypi\n",
      "kiwisolver                1.4.4                    pypi_0    pypi\n",
      "kombu                     5.2.4                    pypi_0    pypi\n",
      "lazy-loader               0.1                      pypi_0    pypi\n",
      "ld_impl_linux-64          2.40                 h41732ed_0    conda-forge\n",
      "libclang                  16.0.0                   pypi_0    pypi\n",
      "libffi                    3.4.2                h7f98852_5    conda-forge\n",
      "libgcc-ng                 12.2.0              h65d4601_19    conda-forge\n",
      "libgomp                   12.2.0              h65d4601_19    conda-forge\n",
      "libnsl                    2.0.0                h7f98852_0    conda-forge\n",
      "libsodium                 1.0.18               h36c2ea0_1    conda-forge\n",
      "libsqlite                 3.40.0               h753d276_0    conda-forge\n",
      "libstdcxx-ng              12.2.0              h46fd767_19    conda-forge\n",
      "libuuid                   2.32.1            h7f98852_1000    conda-forge\n",
      "libzlib                   1.2.13               h166bdaf_4    conda-forge\n",
      "markdown                  3.4.3                    pypi_0    pypi\n",
      "markdown-it-py            2.2.0                    pypi_0    pypi\n",
      "markupsafe                2.1.2                    pypi_0    pypi\n",
      "matplotlib                3.7.1                    pypi_0    pypi\n",
      "matplotlib-inline         0.1.6              pyhd8ed1ab_0    conda-forge\n",
      "mdurl                     0.1.2                    pypi_0    pypi\n",
      "ml-dtypes                 0.0.4                    pypi_0    pypi\n",
      "mongoengine               0.24.2                   pypi_0    pypi\n",
      "motor                     3.1.1                    pypi_0    pypi\n",
      "mpmath                    1.3.0                    pypi_0    pypi\n",
      "multidict                 6.0.4                    pypi_0    pypi\n",
      "nanotime                  0.5.2                    pypi_0    pypi\n",
      "ncurses                   6.3                  h27087fc_1    conda-forge\n",
      "ndjson                    0.3.1                    pypi_0    pypi\n",
      "nest-asyncio              1.5.6              pyhd8ed1ab_0    conda-forge\n",
      "networkx                  3.0                      pypi_0    pypi\n",
      "numpy                     1.23.5                   pypi_0    pypi\n",
      "nvidia-cublas-cu11        11.10.3.66               pypi_0    pypi\n",
      "nvidia-cuda-nvrtc-cu11    11.7.99                  pypi_0    pypi\n",
      "nvidia-cuda-runtime-cu11  11.7.99                  pypi_0    pypi\n",
      "nvidia-cudnn-cu11         8.5.0.96                 pypi_0    pypi\n",
      "nvidia-tensorrt           8.4.3.1                  pypi_0    pypi\n",
      "oauthlib                  3.2.2                    pypi_0    pypi\n",
      "omegaconf                 2.3.0                    pypi_0    pypi\n",
      "onnx                      1.13.1                   pypi_0    pypi\n",
      "onnxruntime-gpu           1.14.1                   pypi_0    pypi\n",
      "onnxsim                   0.4.19                   pypi_0    pypi\n",
      "opencv-python             4.7.0.72                 pypi_0    pypi\n",
      "opencv-python-headless    4.7.0.72                 pypi_0    pypi\n",
      "openssl                   3.0.8                h0b41bf4_0    conda-forge\n",
      "opt-einsum                3.3.0                    pypi_0    pypi\n",
      "orjson                    3.8.7                    pypi_0    pypi\n",
      "packaging                 23.0               pyhd8ed1ab_0    conda-forge\n",
      "pandas                    1.5.3                    pypi_0    pypi\n",
      "parso                     0.8.3              pyhd8ed1ab_0    conda-forge\n",
      "pathspec                  0.11.0                   pypi_0    pypi\n",
      "patool                    1.12                     pypi_0    pypi\n",
      "pexpect                   4.8.0              pyh1a96a4e_2    conda-forge\n",
      "pickleshare               0.7.5                   py_1003    conda-forge\n",
      "pillow                    9.4.0                    pypi_0    pypi\n",
      "pip                       23.0.1             pyhd8ed1ab_0    conda-forge\n",
      "platformdirs              3.1.0              pyhd8ed1ab_0    conda-forge\n",
      "plotly                    5.13.1                   pypi_0    pypi\n",
      "polars                    0.16.13                  pypi_0    pypi\n",
      "pprintpp                  0.4.0                    pypi_0    pypi\n",
      "priority                  2.0.0                    pypi_0    pypi\n",
      "prompt-toolkit            3.0.38             pyha770c72_0    conda-forge\n",
      "prompt_toolkit            3.0.38               hd8ed1ab_0    conda-forge\n",
      "protobuf                  3.20.3                   pypi_0    pypi\n",
      "psutil                    5.9.4            py38h0a891b7_0    conda-forge\n",
      "ptyprocess                0.7.0              pyhd3deb0d_0    conda-forge\n",
      "pure_eval                 0.2.2              pyhd8ed1ab_0    conda-forge\n",
      "pyasn1                    0.4.8                    pypi_0    pypi\n",
      "pyasn1-modules            0.2.8                    pypi_0    pypi\n",
      "pycparser                 2.21                     pypi_0    pypi\n",
      "pydot                     1.4.2                    pypi_0    pypi\n",
      "pygit2                    1.11.1                   pypi_0    pypi\n",
      "pygments                  2.14.0             pyhd8ed1ab_0    conda-forge\n",
      "pygtrie                   2.5.0                    pypi_0    pypi\n",
      "pymongo                   4.3.3                    pypi_0    pypi\n",
      "pyparsing                 3.0.9                    pypi_0    pypi\n",
      "python                    3.8.16          he550d4f_1_cpython    conda-forge\n",
      "python-dateutil           2.8.2              pyhd8ed1ab_0    conda-forge\n",
      "python_abi                3.8                      3_cp38    conda-forge\n",
      "pytz                      2022.7.1                 pypi_0    pypi\n",
      "pytz-deprecation-shim     0.1.0.post0              pypi_0    pypi\n",
      "pywavelets                1.4.1                    pypi_0    pypi\n",
      "pyyaml                    6.0                      pypi_0    pypi\n",
      "pyzmq                     25.0.0           py38he24dcef_0    conda-forge\n",
      "readline                  8.1.2                h0f457ee_0    conda-forge\n",
      "requests                  2.28.2                   pypi_0    pypi\n",
      "requests-oauthlib         1.3.1                    pypi_0    pypi\n",
      "retrying                  1.3.4                    pypi_0    pypi\n",
      "rfc3986                   1.5.0                    pypi_0    pypi\n",
      "rich                      13.3.2                   pypi_0    pypi\n",
      "rsa                       4.9                      pypi_0    pypi\n",
      "ruamel-yaml               0.17.21                  pypi_0    pypi\n",
      "ruamel-yaml-clib          0.2.7                    pypi_0    pypi\n",
      "s3transfer                0.6.0                    pypi_0    pypi\n",
      "scikit-image              0.20.0                   pypi_0    pypi\n",
      "scikit-learn              1.2.2                    pypi_0    pypi\n",
      "scipy                     1.9.1                    pypi_0    pypi\n",
      "scmrepo                   0.1.15                   pypi_0    pypi\n",
      "seaborn                   0.12.2                   pypi_0    pypi\n",
      "sentry-sdk                1.16.0                   pypi_0    pypi\n",
      "setuptools                67.5.1             pyhd8ed1ab_0    conda-forge\n",
      "shortuuid                 1.0.11                   pypi_0    pypi\n",
      "shtab                     1.5.8                    pypi_0    pypi\n",
      "six                       1.16.0             pyh6c4a22f_0    conda-forge\n",
      "smmap                     5.0.0                    pypi_0    pypi\n",
      "sniffio                   1.3.0                    pypi_0    pypi\n",
      "sortedcontainers          2.4.0                    pypi_0    pypi\n",
      "sqltrie                   0.2.0                    pypi_0    pypi\n",
      "sse-starlette             0.10.3                   pypi_0    pypi\n",
      "sseclient-py              1.7.2                    pypi_0    pypi\n",
      "stack_data                0.6.2              pyhd8ed1ab_0    conda-forge\n",
      "starlette                 0.20.4                   pypi_0    pypi\n",
      "strawberry-graphql        0.138.1                  pypi_0    pypi\n",
      "sympy                     1.11.1                   pypi_0    pypi\n",
      "tabulate                  0.9.0                    pypi_0    pypi\n",
      "tenacity                  8.2.2                    pypi_0    pypi\n",
      "tensorboard               2.12.0                   pypi_0    pypi\n",
      "tensorboard-data-server   0.7.0                    pypi_0    pypi\n",
      "tensorboard-plugin-wit    1.8.1                    pypi_0    pypi\n",
      "tensorflow                2.12.0                   pypi_0    pypi\n",
      "tensorflow-estimator      2.12.0                   pypi_0    pypi\n",
      "tensorflow-io-gcs-filesystem 0.31.0                   pypi_0    pypi\n",
      "termcolor                 2.2.0                    pypi_0    pypi\n",
      "thop                      0.1.1-2209072238          pypi_0    pypi\n",
      "threadpoolctl             3.1.0                    pypi_0    pypi\n",
      "tifffile                  2023.2.28                pypi_0    pypi\n",
      "tk                        8.6.12               h27826a3_0    conda-forge\n",
      "toml                      0.10.2                   pypi_0    pypi\n",
      "tomlkit                   0.11.6                   pypi_0    pypi\n",
      "torch                     1.13.1                   pypi_0    pypi\n",
      "torchvision               0.14.1                   pypi_0    pypi\n",
      "tornado                   6.2              py38h0a891b7_1    conda-forge\n",
      "tqdm                      4.65.0                   pypi_0    pypi\n",
      "traitlets                 5.9.0              pyhd8ed1ab_0    conda-forge\n",
      "typing-extensions         4.5.0                    pypi_0    pypi\n",
      "typing_extensions         4.4.0              pyha770c72_0    conda-forge\n",
      "tzdata                    2022.7                   pypi_0    pypi\n",
      "tzlocal                   4.2                      pypi_0    pypi\n",
      "ultralytics               8.0.51                   pypi_0    pypi\n",
      "universal-analytics-python3 1.1.1                    pypi_0    pypi\n",
      "urllib3                   1.26.14                  pypi_0    pypi\n",
      "vine                      5.0.0                    pypi_0    pypi\n",
      "voluptuous                0.13.1                   pypi_0    pypi\n",
      "voxel51-eta               0.8.3                    pypi_0    pypi\n",
      "wcwidth                   0.2.6              pyhd8ed1ab_0    conda-forge\n",
      "werkzeug                  2.2.3                    pypi_0    pypi\n",
      "wheel                     0.38.4             pyhd8ed1ab_0    conda-forge\n",
      "wrapt                     1.14.1                   pypi_0    pypi\n",
      "wsproto                   1.2.0                    pypi_0    pypi\n",
      "xmltodict                 0.13.0                   pypi_0    pypi\n",
      "xz                        5.2.6                h166bdaf_0    conda-forge\n",
      "yarl                      1.8.2                    pypi_0    pypi\n",
      "zc-lockfile               3.0.post1                pypi_0    pypi\n",
      "zeromq                    4.3.4                h9c3ff4c_1    conda-forge\n",
      "zipp                      3.15.0             pyhd8ed1ab_0    conda-forge\n"
     ]
    }
   ],
   "source": [
    "!mamba list"
   ]
  },
  {
   "cell_type": "code",
   "execution_count": null,
   "metadata": {},
   "outputs": [],
   "source": []
  }
 ],
 "metadata": {
  "kernelspec": {
   "display_name": ".py38",
   "language": "python",
   "name": "python3"
  },
  "language_info": {
   "codemirror_mode": {
    "name": "ipython",
    "version": 3
   },
   "file_extension": ".py",
   "mimetype": "text/x-python",
   "name": "python",
   "nbconvert_exporter": "python",
   "pygments_lexer": "ipython3",
   "version": "3.8.16"
  },
  "orig_nbformat": 4
 },
 "nbformat": 4,
 "nbformat_minor": 2
}
