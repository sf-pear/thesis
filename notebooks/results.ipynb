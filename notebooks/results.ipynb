{
 "cells": [
  {
   "cell_type": "code",
   "execution_count": null,
   "metadata": {},
   "outputs": [],
   "source": [
    "import pandas as pd\n",
    "import fiftyone as fo\n",
    "\n",
    "import seaborn as sns\n",
    "\n",
    "sns.set_theme(style='darkgrid', palette='mako')"
   ]
  },
  {
   "attachments": {},
   "cell_type": "markdown",
   "metadata": {},
   "source": [
    "## Label distribution in ROV dataset"
   ]
  },
  {
   "cell_type": "code",
   "execution_count": null,
   "metadata": {},
   "outputs": [],
   "source": [
    "def make_df(dataset, splits):\n",
    "    \"\"\"Counts how many annotations of each label exist per split.\n",
    "\n",
    "    Args:\n",
    "        dataset (fiftyone dataset): Fiftyone dataset.\n",
    "        splits (list): List of splits in the fiftyone dataset. E.g.: ['train', 'test']\n",
    "\n",
    "    Returns:\n",
    "        pandas DataFrame: label, count and split columns.\n",
    "    \"\"\"    \n",
    "    df_list = []\n",
    "    for i in splits:\n",
    "        view = dataset.match_tags(i)\n",
    "        count_dict = view.count_values(\"ground_truth.detections.label\")\n",
    "\n",
    "        df = pd.DataFrame(count_dict.items(), columns=['label', 'count']).copy()\n",
    "        df[\"split\"] = i\n",
    "        df_list.append(df)\n",
    "    \n",
    "    return pd.concat(df_list)"
   ]
  },
  {
   "cell_type": "code",
   "execution_count": null,
   "metadata": {},
   "outputs": [],
   "source": [
    "rov_dataset = fo.load_dataset(\"rov\")"
   ]
  },
  {
   "cell_type": "code",
   "execution_count": null,
   "metadata": {},
   "outputs": [],
   "source": [
    "label_count = make_df(rov_dataset, [\"train\", \"val\", \"test\"])\n",
    "label_count.head()\n",
    "\n",
    "# save label counts\n",
    "# label_count.to_csv(\"../results/label_count_split.csv\", index=False)"
   ]
  },
  {
   "cell_type": "code",
   "execution_count": null,
   "metadata": {},
   "outputs": [],
   "source": [
    "# sort by count, more labels first\n",
    "sorted_df = label_count.sort_values(by='count', ascending=False)\n",
    "\n",
    "# plot label counts\n",
    "label_dist = sns.lineplot(data=sorted_df, x=\"label\", y=\"count\", hue=\"split\", palette=\"mako\")\n",
    "label_dist.set_xticklabels(label_dist.get_xticklabels(), rotation=45, horizontalalignment='right');"
   ]
  },
  {
   "attachments": {},
   "cell_type": "markdown",
   "metadata": {},
   "source": [
    "## AUV models evaluation"
   ]
  },
  {
   "cell_type": "code",
   "execution_count": null,
   "metadata": {},
   "outputs": [],
   "source": [
    "auv_results = pd.read_csv('../artifacts/results/auv_results.csv')"
   ]
  },
  {
   "cell_type": "code",
   "execution_count": null,
   "metadata": {},
   "outputs": [],
   "source": [
    "auv_results.columns"
   ]
  },
  {
   "cell_type": "code",
   "execution_count": null,
   "metadata": {},
   "outputs": [],
   "source": [
    "sns.lmplot(y='metrics/mAP50(B)', x='auv_train_sample_count', data=auv_results, fit_reg=True);"
   ]
  },
  {
   "cell_type": "code",
   "execution_count": null,
   "metadata": {},
   "outputs": [],
   "source": [
    "sns.lmplot(y='metrics/mAP50(B)', x='auv_train_sample_count', data=auv_results, fit_reg=True, order=2, ci=None);"
   ]
  },
  {
   "cell_type": "code",
   "execution_count": null,
   "metadata": {},
   "outputs": [],
   "source": [
    "exclude = auv_results[auv_results['auv_train_sample_count'] > 50]\n",
    "sns.lmplot(y='metrics/mAP50(B)', x='auv_train_sample_count', data=exclude, fit_reg=True);"
   ]
  }
 ],
 "metadata": {
  "kernelspec": {
   "display_name": "ocean",
   "language": "python",
   "name": "python3"
  },
  "language_info": {
   "codemirror_mode": {
    "name": "ipython",
    "version": 3
   },
   "file_extension": ".py",
   "mimetype": "text/x-python",
   "name": "python",
   "nbconvert_exporter": "python",
   "pygments_lexer": "ipython3",
   "version": "3.8.16"
  },
  "orig_nbformat": 4
 },
 "nbformat": 4,
 "nbformat_minor": 2
}
